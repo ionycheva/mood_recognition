{
 "cells": [
  {
   "cell_type": "code",
   "execution_count": 34,
   "metadata": {
    "collapsed": true,
    "ExecuteTime": {
     "end_time": "2023-07-26T17:05:16.001051Z",
     "start_time": "2023-07-26T17:05:15.995033Z"
    }
   },
   "outputs": [],
   "source": [
    "import re\n",
    "import numpy as np\n",
    "import pymorphy3\n",
    "\n",
    "from sklearn.feature_extraction.text import TfidfVectorizer\n",
    "from joblib import dump, load\n",
    "import pickle"
   ]
  },
  {
   "cell_type": "code",
   "execution_count": 35,
   "outputs": [],
   "source": [
    "def save_file(name, obj, path):\n",
    "    with open('{path}/{name}.pickle'.format(name=name, path=path), 'wb') as handle:\n",
    "        pickle.dump(obj, handle, protocol=pickle.HIGHEST_PROTOCOL)"
   ],
   "metadata": {
    "collapsed": false,
    "ExecuteTime": {
     "end_time": "2023-07-26T17:05:16.001272Z",
     "start_time": "2023-07-26T17:05:15.997631Z"
    }
   }
  },
  {
   "cell_type": "code",
   "execution_count": 36,
   "outputs": [],
   "source": [
    "special_characters = ['</p>', '\\xa0', '<br/>', '\\n', '-&gt;']"
   ],
   "metadata": {
    "collapsed": false,
    "ExecuteTime": {
     "end_time": "2023-07-26T17:05:16.002624Z",
     "start_time": "2023-07-26T17:05:16.000480Z"
    }
   }
  },
  {
   "cell_type": "code",
   "execution_count": 37,
   "outputs": [],
   "source": [
    "stop_words = ['в', 'на', 'с', 'и', 'я', 'о', 'к', 'а', 'за', 'по',\n",
    "              'об', 'у', 'бы', 'от', 'ли', 'ул', 'что', 'со', 'из',\n",
    "              'для', 'про', 'г', 'до', 'то', 'быть', 'по', 'мочь',\n",
    "              'январь','февраль','март','апрель','май','июнь','июль',\n",
    "              'август','сентябрь','октябрь','ноябрь','декабрь','год',\n",
    "              'стать','это','когда','даже', 'янв', 'фев', 'апр', 'авг',\n",
    "              'сен', 'окт', 'ноя', 'дек', 'ые', 'ый', 'ым', 'ых', 'ая']\n"
   ],
   "metadata": {
    "collapsed": false,
    "ExecuteTime": {
     "end_time": "2023-07-26T17:05:16.006545Z",
     "start_time": "2023-07-26T17:05:16.004806Z"
    }
   }
  },
  {
   "cell_type": "code",
   "execution_count": 38,
   "outputs": [
    {
     "data": {
      "text/plain": "''"
     },
     "execution_count": 38,
     "metadata": {},
     "output_type": "execute_result"
    }
   ],
   "source": [
    "f = open(\"data/reviews_positive.txt\", \"r\")\n",
    "positive_reviews = f.read().split('<p>')\n",
    "positive_reviews.pop(0)\n",
    "\n",
    "f = open(\"data/reviews_neutral.txt\", \"r\")\n",
    "neutral_reviews = f.read().split('<p>')\n",
    "neutral_reviews.pop(0)\n",
    "\n",
    "f = open(\"data/reviews_negative.txt\", \"r\")\n",
    "negative_reviews = f.read().split('<p>')\n",
    "negative_reviews.pop(0)"
   ],
   "metadata": {
    "collapsed": false,
    "ExecuteTime": {
     "end_time": "2023-07-26T17:05:16.034453Z",
     "start_time": "2023-07-26T17:05:16.007596Z"
    }
   }
  },
  {
   "cell_type": "code",
   "execution_count": 39,
   "outputs": [],
   "source": [
    "def cleansing(text):\n",
    "    res = []\n",
    "    for i in range(len(text)):\n",
    "        res.append(text[i])\n",
    "        for sp_ch in special_characters:\n",
    "            res[i] = (text[i].replace(sp_ch,' '))\n",
    "        res[i] = res[i].lower()\n",
    "        res[i] = re.sub(r'[^\\w\\s]', ' ', res[i])\n",
    "        res[i] = re.sub(r'[^\\w\\s]+|[\\d]+', r' ',res[i]).strip()\n",
    "        res[i] = re.sub('[a-zA-Z\\s]+', ' ', res[i])\n",
    "        res[i] = re.sub(\" +\", \" \", res[i])\n",
    "    return res\n",
    "\n",
    "morph = pymorphy3.MorphAnalyzer()\n",
    "\n",
    "def lemmatize(sentence):\n",
    "    words = sentence.split() # разбиваем текст на слова\n",
    "    res = list()\n",
    "    for word in words:\n",
    "        p = morph.parse(word)[0]\n",
    "        res.append(p.normal_form)\n",
    "    return res\n",
    "\n",
    "def delete_stop_words(sentence):\n",
    "    res = list()\n",
    "    for word in sentence:\n",
    "        if word not in stop_words:\n",
    "            res.append(word)\n",
    "    return res\n",
    "\n",
    "def join(sentence):\n",
    "    return ' '.join(sentence)\n"
   ],
   "metadata": {
    "collapsed": false,
    "ExecuteTime": {
     "end_time": "2023-07-26T17:05:16.188450Z",
     "start_time": "2023-07-26T17:05:16.036782Z"
    }
   }
  },
  {
   "cell_type": "code",
   "execution_count": 40,
   "outputs": [],
   "source": [
    "def processing_pipeline(reviews):\n",
    "    cleansed_reviews = cleansing(reviews)\n",
    "    lemmatized_reviews = list(map(lemmatize,cleansed_reviews))\n",
    "    clean_reviews = list(map(delete_stop_words,lemmatized_reviews))\n",
    "    final_reviews = list(map(join,clean_reviews))\n",
    "    return final_reviews\n"
   ],
   "metadata": {
    "collapsed": false,
    "ExecuteTime": {
     "end_time": "2023-07-26T17:05:16.190467Z",
     "start_time": "2023-07-26T17:05:16.189145Z"
    }
   }
  },
  {
   "cell_type": "code",
   "execution_count": 41,
   "outputs": [],
   "source": [
    "positive_data = processing_pipeline(positive_reviews)\n",
    "neutral_data = processing_pipeline(neutral_reviews)\n",
    "negative_data = processing_pipeline(negative_reviews)"
   ],
   "metadata": {
    "collapsed": false,
    "ExecuteTime": {
     "end_time": "2023-07-26T17:05:37.716830Z",
     "start_time": "2023-07-26T17:05:16.244204Z"
    }
   }
  },
  {
   "cell_type": "code",
   "execution_count": 42,
   "outputs": [
    {
     "data": {
      "text/plain": "'Перешёл по ссылке друга оформил карту получил в ближайшем банке активно пользуюсь.в причине отказа оформления кэшбека пишут-вы не получили карту (просто недоумеваю).звонил на горячую линию ,обещали разобраться в течении 5 рабочих дней-прошло две недели.берут на измор,пока сам не отстанеш.</p>\\n'"
     },
     "execution_count": 42,
     "metadata": {},
     "output_type": "execute_result"
    }
   ],
   "source": [
    "negative_reviews[0]"
   ],
   "metadata": {
    "collapsed": false,
    "ExecuteTime": {
     "end_time": "2023-07-26T17:05:37.720228Z",
     "start_time": "2023-07-26T17:05:37.717237Z"
    }
   }
  },
  {
   "cell_type": "code",
   "execution_count": 43,
   "outputs": [
    {
     "data": {
      "text/plain": "'перейти ссылка друг оформить карта получить близкий банк активно пользоваться причина отказ оформление кэшбек писать вы не получить карта просто недоумевать звонить горячий линия обещать разобраться течение рабочий день пройти два неделя брать измор пока сам не отстанеш'"
     },
     "execution_count": 43,
     "metadata": {},
     "output_type": "execute_result"
    }
   ],
   "source": [
    "negative_data[0]"
   ],
   "metadata": {
    "collapsed": false,
    "ExecuteTime": {
     "end_time": "2023-07-26T17:05:37.723269Z",
     "start_time": "2023-07-26T17:05:37.721161Z"
    }
   }
  },
  {
   "cell_type": "code",
   "execution_count": 44,
   "outputs": [
    {
     "data": {
      "text/plain": "['vectorizer.joblib']"
     },
     "execution_count": 44,
     "metadata": {},
     "output_type": "execute_result"
    }
   ],
   "source": [
    "vectorizer = TfidfVectorizer()\n",
    "\n",
    "data = np.concatenate((positive_data,neutral_data))\n",
    "data = np.concatenate((data,negative_data))\n",
    "X = vectorizer.fit_transform(data)\n",
    "\n",
    "dump(vectorizer, 'vectorizer.joblib')"
   ],
   "metadata": {
    "collapsed": false,
    "ExecuteTime": {
     "end_time": "2023-07-26T17:05:38.195112Z",
     "start_time": "2023-07-26T17:05:37.724104Z"
    }
   }
  },
  {
   "cell_type": "code",
   "execution_count": 45,
   "outputs": [],
   "source": [
    "save_file('data_positive', positive_data, 'prepared_data')\n",
    "save_file('data_neutral', neutral_data, 'prepared_data')\n",
    "save_file('data_negative', negative_data, 'prepared_data')"
   ],
   "metadata": {
    "collapsed": false,
    "ExecuteTime": {
     "end_time": "2023-07-26T17:05:38.201821Z",
     "start_time": "2023-07-26T17:05:38.195367Z"
    }
   }
  },
  {
   "cell_type": "code",
   "execution_count": 45,
   "outputs": [],
   "source": [],
   "metadata": {
    "collapsed": false,
    "ExecuteTime": {
     "end_time": "2023-07-26T17:05:38.203701Z",
     "start_time": "2023-07-26T17:05:38.202104Z"
    }
   }
  },
  {
   "cell_type": "code",
   "execution_count": 45,
   "outputs": [],
   "source": [],
   "metadata": {
    "collapsed": false,
    "ExecuteTime": {
     "end_time": "2023-07-26T17:05:38.205433Z",
     "start_time": "2023-07-26T17:05:38.203975Z"
    }
   }
  },
  {
   "cell_type": "code",
   "execution_count": 45,
   "outputs": [],
   "source": [],
   "metadata": {
    "collapsed": false,
    "ExecuteTime": {
     "end_time": "2023-07-26T17:05:38.207242Z",
     "start_time": "2023-07-26T17:05:38.205708Z"
    }
   }
  }
 ],
 "metadata": {
  "kernelspec": {
   "display_name": "Python 3",
   "language": "python",
   "name": "python3"
  },
  "language_info": {
   "codemirror_mode": {
    "name": "ipython",
    "version": 2
   },
   "file_extension": ".py",
   "mimetype": "text/x-python",
   "name": "python",
   "nbconvert_exporter": "python",
   "pygments_lexer": "ipython2",
   "version": "2.7.6"
  }
 },
 "nbformat": 4,
 "nbformat_minor": 0
}
