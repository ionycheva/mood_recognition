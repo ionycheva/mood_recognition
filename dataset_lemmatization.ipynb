{
 "cells": [
  {
   "cell_type": "code",
   "execution_count": 18,
   "metadata": {
    "collapsed": true,
    "ExecuteTime": {
     "end_time": "2023-07-26T16:28:21.833583Z",
     "start_time": "2023-07-26T16:28:21.825479Z"
    }
   },
   "outputs": [],
   "source": [
    "import re\n",
    "import numpy as np\n",
    "import pymorphy3\n",
    "\n",
    "from sklearn.feature_extraction.text import TfidfVectorizer\n",
    "from joblib import dump, load\n",
    "import pickle"
   ]
  },
  {
   "cell_type": "code",
   "execution_count": 18,
   "outputs": [],
   "source": [],
   "metadata": {
    "collapsed": false,
    "ExecuteTime": {
     "end_time": "2023-07-26T16:28:21.833843Z",
     "start_time": "2023-07-26T16:28:21.829530Z"
    }
   }
  },
  {
   "cell_type": "code",
   "execution_count": 18,
   "outputs": [],
   "source": [],
   "metadata": {
    "collapsed": false,
    "ExecuteTime": {
     "end_time": "2023-07-26T16:28:21.833924Z",
     "start_time": "2023-07-26T16:28:21.832211Z"
    }
   }
  },
  {
   "cell_type": "code",
   "execution_count": 28,
   "outputs": [],
   "source": [
    "def save_file(name, obj, path):\n",
    "    with open('{path}/{name}.pickle'.format(name=name, path=path), 'wb') as handle:\n",
    "        pickle.dump(obj, handle, protocol=pickle.HIGHEST_PROTOCOL)"
   ],
   "metadata": {
    "collapsed": false,
    "ExecuteTime": {
     "end_time": "2023-07-26T16:29:27.090838Z",
     "start_time": "2023-07-26T16:29:27.088830Z"
    }
   }
  },
  {
   "cell_type": "code",
   "execution_count": 20,
   "outputs": [],
   "source": [
    "special_characters = ['</p>', '\\xa0', '<br/>', '\\n', '-&gt;']"
   ],
   "metadata": {
    "collapsed": false,
    "ExecuteTime": {
     "end_time": "2023-07-26T16:28:21.852863Z",
     "start_time": "2023-07-26T16:28:21.839373Z"
    }
   }
  },
  {
   "cell_type": "code",
   "execution_count": 21,
   "outputs": [],
   "source": [
    "stop_words = ['в', 'на', 'с', 'и', 'я', 'о', 'к', 'а', 'за', 'по',\n",
    "              'об', 'у', 'бы', 'от', 'ли', 'ул', 'что', 'со', 'из',\n",
    "              'для', 'про', 'г', 'до', 'то', 'быть', 'по', 'мочь',\n",
    "              'январь','февраль','март','апрель','май','июнь','июль',\n",
    "              'август','сентябрь','октябрь','ноябрь','декабрь','год',\n",
    "              'стать','это','когда','даже', 'янв', 'фев', 'апр', 'авг',\n",
    "              'сен', 'окт', 'ноя', 'дек', 'ые', 'ый', 'ым', 'ых', 'ая', '', '', '', '', '', '', '']\n"
   ],
   "metadata": {
    "collapsed": false,
    "ExecuteTime": {
     "end_time": "2023-07-26T16:28:21.853119Z",
     "start_time": "2023-07-26T16:28:21.843179Z"
    }
   }
  },
  {
   "cell_type": "code",
   "execution_count": 22,
   "outputs": [
    {
     "data": {
      "text/plain": "''"
     },
     "execution_count": 22,
     "metadata": {},
     "output_type": "execute_result"
    }
   ],
   "source": [
    "f = open(\"data/reviews_positive.txt\", \"r\")\n",
    "positive_reviews = f.read().split('<p>')\n",
    "positive_reviews.pop(0)\n",
    "\n",
    "f = open(\"data/reviews_neutral.txt\", \"r\")\n",
    "neutral_reviews = f.read().split('<p>')\n",
    "neutral_reviews.pop(0)\n",
    "\n",
    "f = open(\"data/reviews_negative.txt\", \"r\")\n",
    "negative_reviews = f.read().split('<p>')\n",
    "negative_reviews.pop(0)"
   ],
   "metadata": {
    "collapsed": false,
    "ExecuteTime": {
     "end_time": "2023-07-26T16:28:21.872654Z",
     "start_time": "2023-07-26T16:28:21.846755Z"
    }
   }
  },
  {
   "cell_type": "code",
   "execution_count": 23,
   "outputs": [],
   "source": [
    "def cleansing(text):\n",
    "    res = []\n",
    "    for i in range(len(text)):\n",
    "        res.append(text[i])\n",
    "        for sp_ch in special_characters:\n",
    "            res[i] = (text[i].replace(sp_ch,' '))\n",
    "        res[i] = res[i].lower()\n",
    "        res[i] = re.sub(r'[^\\w\\s]', ' ', res[i])\n",
    "        res[i] = re.sub(r'[^\\w\\s]+|[\\d]+', r' ',res[i]).strip()\n",
    "        res[i] = re.sub('[a-zA-Z\\s]+', ' ', res[i])\n",
    "        res[i] = re.sub(\" +\", \" \", res[i])\n",
    "    return res\n",
    "\n",
    "morph = pymorphy3.MorphAnalyzer()\n",
    "\n",
    "def lemmatize(sentence):\n",
    "    words = sentence.split() # разбиваем текст на слова\n",
    "    res = list()\n",
    "    for word in words:\n",
    "        p = morph.parse(word)[0]\n",
    "        res.append(p.normal_form)\n",
    "    return res\n",
    "\n",
    "def delete_stop_words(sentence):\n",
    "    res = list()\n",
    "    for word in sentence:\n",
    "        if word not in stop_words:\n",
    "            res.append(word)\n",
    "    return res\n",
    "\n",
    "def join(sentence):\n",
    "    return ' '.join(sentence)\n"
   ],
   "metadata": {
    "collapsed": false,
    "ExecuteTime": {
     "end_time": "2023-07-26T16:28:21.944979Z",
     "start_time": "2023-07-26T16:28:21.875561Z"
    }
   }
  },
  {
   "cell_type": "code",
   "execution_count": 24,
   "outputs": [],
   "source": [
    "positive_text = cleansing(positive_reviews)\n",
    "lemmatize_positive_text = list(map(lemmatize,positive_text))\n",
    "clean_positive_text = list(map(delete_stop_words,lemmatize_positive_text))\n",
    "joined_positive_reviews = list(map(join,clean_positive_text))\n",
    "\n",
    "neutral_text = cleansing(neutral_reviews)\n",
    "lemmatize_neutral_text = list(map(lemmatize,neutral_text))\n",
    "clean_neutral_text = list(map(delete_stop_words,lemmatize_neutral_text))\n",
    "joined_neutral_reviews = list(map(join,clean_neutral_text))\n",
    "\n",
    "negative_text = cleansing(negative_reviews)\n",
    "lemmatize_negative_text = list(map(lemmatize,negative_text))\n",
    "clean_negative_text = list(map(delete_stop_words,lemmatize_negative_text))\n",
    "joined_negative_reviews = list(map(join,clean_negative_text))"
   ],
   "metadata": {
    "collapsed": false,
    "ExecuteTime": {
     "end_time": "2023-07-26T16:28:43.615107Z",
     "start_time": "2023-07-26T16:28:22.001228Z"
    }
   }
  },
  {
   "cell_type": "code",
   "execution_count": 25,
   "outputs": [
    {
     "data": {
      "text/plain": "['vectorizer.joblib']"
     },
     "execution_count": 25,
     "metadata": {},
     "output_type": "execute_result"
    }
   ],
   "source": [
    "vectorizer = TfidfVectorizer()\n",
    "\n",
    "data = np.concatenate((joined_positive_reviews,joined_neutral_reviews))\n",
    "data = np.concatenate((data,joined_negative_reviews))\n",
    "\n",
    "X = vectorizer.fit_transform(data)\n",
    "#vectorizer.get_feature_names_out()\n",
    "\n",
    "#s = pickle.dumps(vectorizer)\n",
    "dump(vectorizer, 'vectorizer.joblib')\n"
   ],
   "metadata": {
    "collapsed": false,
    "ExecuteTime": {
     "end_time": "2023-07-26T16:28:44.108089Z",
     "start_time": "2023-07-26T16:28:43.617100Z"
    }
   }
  },
  {
   "cell_type": "code",
   "execution_count": 29,
   "outputs": [],
   "source": [
    "save_file('data_positive', joined_positive_reviews, 'prepared_data')\n",
    "save_file('data_neutral', joined_neutral_reviews, 'prepared_data')\n",
    "save_file('data_negative', joined_negative_reviews, 'prepared_data')"
   ],
   "metadata": {
    "collapsed": false,
    "ExecuteTime": {
     "end_time": "2023-07-26T16:29:29.601394Z",
     "start_time": "2023-07-26T16:29:29.586032Z"
    }
   }
  },
  {
   "cell_type": "code",
   "execution_count": null,
   "outputs": [],
   "source": [
    "negative_reviews[0]"
   ],
   "metadata": {
    "collapsed": false,
    "ExecuteTime": {
     "start_time": "2023-07-26T16:28:44.149196Z"
    }
   }
  },
  {
   "cell_type": "code",
   "execution_count": null,
   "outputs": [],
   "source": [
    "joined_negative_reviews[0]"
   ],
   "metadata": {
    "collapsed": false,
    "ExecuteTime": {
     "start_time": "2023-07-26T16:28:44.150251Z"
    }
   }
  },
  {
   "cell_type": "code",
   "execution_count": null,
   "outputs": [],
   "source": [
    "vectorizer = TfidfVectorizer()\n",
    "\n",
    "data = np.concatenate((joined_positive_reviews,joined_neutral_reviews))\n",
    "data = np.concatenate((data,joined_negative_reviews))\n",
    "\n",
    "X = vectorizer.fit_transform(data)\n",
    "vectorizer.get_feature_names_out()"
   ],
   "metadata": {
    "collapsed": false
   }
  },
  {
   "cell_type": "code",
   "execution_count": null,
   "outputs": [],
   "source": [],
   "metadata": {
    "collapsed": false
   }
  }
 ],
 "metadata": {
  "kernelspec": {
   "display_name": "Python 3",
   "language": "python",
   "name": "python3"
  },
  "language_info": {
   "codemirror_mode": {
    "name": "ipython",
    "version": 2
   },
   "file_extension": ".py",
   "mimetype": "text/x-python",
   "name": "python",
   "nbconvert_exporter": "python",
   "pygments_lexer": "ipython2",
   "version": "2.7.6"
  }
 },
 "nbformat": 4,
 "nbformat_minor": 0
}
