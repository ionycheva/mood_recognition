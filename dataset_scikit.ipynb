{
 "cells": [
  {
   "cell_type": "code",
   "execution_count": 44,
   "metadata": {
    "collapsed": true,
    "ExecuteTime": {
     "end_time": "2023-07-24T16:46:50.748229Z",
     "start_time": "2023-07-24T16:46:50.745519Z"
    }
   },
   "outputs": [],
   "source": [
    "import pandas as pd\n",
    "import re\n",
    "import numpy as np\n",
    "import pymorphy3\n",
    "from sklearn.feature_extraction.text import TfidfVectorizer"
   ]
  },
  {
   "cell_type": "code",
   "execution_count": 45,
   "outputs": [],
   "source": [
    "f = open(\"reviews_positive_test.txt\", \"r\")\n",
    "text = f.read()"
   ],
   "metadata": {
    "collapsed": false,
    "ExecuteTime": {
     "end_time": "2023-07-24T16:46:50.753506Z",
     "start_time": "2023-07-24T16:46:50.748934Z"
    }
   }
  },
  {
   "cell_type": "code",
   "execution_count": 46,
   "outputs": [
    {
     "data": {
      "text/plain": "''"
     },
     "execution_count": 46,
     "metadata": {},
     "output_type": "execute_result"
    }
   ],
   "source": [
    "text = text.split('<p>')\n",
    "text.pop(0)"
   ],
   "metadata": {
    "collapsed": false,
    "ExecuteTime": {
     "end_time": "2023-07-24T16:46:50.756611Z",
     "start_time": "2023-07-24T16:46:50.753182Z"
    }
   }
  },
  {
   "cell_type": "code",
   "execution_count": 47,
   "outputs": [],
   "source": [
    "prepositions = [' в ', ' на ', ' с ', ' и ', ' я ', ' о ', ' к ', ' а ', ' за ', ' по ',\n",
    "                ' об ', ' у ', ' бы ', ' от ', ' ли ', ' ул ', ' что ', ' со ', ' из ',\n",
    "                ' для ', ' про ', ' г ', ' до ', ' то ']\n",
    "\n",
    "special_characters = ['</p>', '\\xa0', '<br/>', '\\n', '-&gt;']"
   ],
   "metadata": {
    "collapsed": false,
    "ExecuteTime": {
     "end_time": "2023-07-24T16:46:50.759157Z",
     "start_time": "2023-07-24T16:46:50.757405Z"
    }
   }
  },
  {
   "cell_type": "code",
   "execution_count": 48,
   "outputs": [],
   "source": [
    "for i in range(len(text)):\n",
    "\n",
    "\n",
    "    for sp_ch in special_characters:\n",
    "        text[i] = text[i].replace(sp_ch,' ')\n",
    "\n",
    "    text[i] = text[i].lower()\n",
    "    text[i] = re.sub(r'[^\\w\\s]', ' ', text[i])\n",
    "    text[i] = re.sub(r'[^\\w\\s]+|[\\d]+', r' ',text[i]).strip()\n",
    "    text[i] = re.sub('[a-zA-Z\\s]+', ' ', text[i])\n",
    "    text[i] = re.sub(\" +\", \" \", text[i])\n",
    "\n",
    "    for prepos in prepositions:\n",
    "        text[i] = text[i].replace(prepos,' ')\n"
   ],
   "metadata": {
    "collapsed": false,
    "ExecuteTime": {
     "end_time": "2023-07-24T16:46:50.767837Z",
     "start_time": "2023-07-24T16:46:50.764366Z"
    }
   }
  },
  {
   "cell_type": "code",
   "execution_count": null,
   "outputs": [],
   "source": [
    "vectorizer = TfidfVectorizer()\n",
    "X = vectorizer.fit_transform(text)\n",
    "vectorizer.get_feature_names_out()"
   ],
   "metadata": {
    "collapsed": false
   }
  },
  {
   "cell_type": "code",
   "execution_count": 49,
   "outputs": [],
   "source": [],
   "metadata": {
    "collapsed": false,
    "ExecuteTime": {
     "end_time": "2023-07-24T16:46:50.838813Z",
     "start_time": "2023-07-24T16:46:50.837614Z"
    }
   }
  }
 ],
 "metadata": {
  "kernelspec": {
   "display_name": "Python 3",
   "language": "python",
   "name": "python3"
  },
  "language_info": {
   "codemirror_mode": {
    "name": "ipython",
    "version": 2
   },
   "file_extension": ".py",
   "mimetype": "text/x-python",
   "name": "python",
   "nbconvert_exporter": "python",
   "pygments_lexer": "ipython2",
   "version": "2.7.6"
  }
 },
 "nbformat": 4,
 "nbformat_minor": 0
}
