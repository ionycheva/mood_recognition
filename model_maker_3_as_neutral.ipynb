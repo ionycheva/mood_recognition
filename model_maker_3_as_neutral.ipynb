{
 "cells": [
  {
   "cell_type": "raw",
   "source": [
    "Forming dataset. Train and validate model."
   ],
   "metadata": {
    "collapsed": false
   }
  },
  {
   "cell_type": "code",
   "execution_count": 21,
   "metadata": {
    "collapsed": true,
    "ExecuteTime": {
     "end_time": "2023-07-28T09:32:40.003492Z",
     "start_time": "2023-07-28T09:32:39.992961Z"
    }
   },
   "outputs": [],
   "source": [
    "import numpy as np\n",
    "#from sklearn.feature_extraction.text import TfidfVectorizer\n",
    "from sklearn.svm import LinearSVC\n",
    "import pickle\n",
    "from joblib import dump, load\n",
    "from sklearn.model_selection import train_test_split"
   ]
  },
  {
   "cell_type": "code",
   "execution_count": 22,
   "outputs": [],
   "source": [
    "def load_file(name, path_n):\n",
    "    \"\"\" Loads prepared data from files saving data structure \"\"\"\n",
    "    with open('{path}/{name}.pickle'.format(name=name, path=path_n), 'rb') as handle:\n",
    "        b = pickle.load(handle)\n",
    "    return b"
   ],
   "metadata": {
    "collapsed": false,
    "ExecuteTime": {
     "end_time": "2023-07-28T09:32:40.003926Z",
     "start_time": "2023-07-28T09:32:39.995774Z"
    }
   }
  },
  {
   "cell_type": "markdown",
   "source": [
    "### Forming dataset for training and testing model"
   ],
   "metadata": {
    "collapsed": false
   }
  },
  {
   "cell_type": "code",
   "execution_count": 23,
   "outputs": [],
   "source": [
    "# load data from files\n",
    "\n",
    "path = 'prepared_data'\n",
    "\n",
    "positive_reviews = load_file('data_positive',path)\n",
    "neutral_reviews = load_file('data_neutral',path)\n",
    "negative_reviews = load_file('data_negative',path)"
   ],
   "metadata": {
    "collapsed": false,
    "ExecuteTime": {
     "end_time": "2023-07-28T09:32:40.027044Z",
     "start_time": "2023-07-28T09:32:39.997985Z"
    }
   }
  },
  {
   "cell_type": "code",
   "execution_count": 24,
   "outputs": [],
   "source": [
    "# form general corpus \"X\"\n",
    "\n",
    "data = np.concatenate((positive_reviews,neutral_reviews))\n",
    "data = np.concatenate((data,negative_reviews))"
   ],
   "metadata": {
    "collapsed": false,
    "ExecuteTime": {
     "end_time": "2023-07-28T09:32:40.193485Z",
     "start_time": "2023-07-28T09:32:40.017573Z"
    }
   }
  },
  {
   "cell_type": "code",
   "execution_count": 25,
   "outputs": [],
   "source": [
    "# form labels \"Y\"\n",
    "\n",
    "labels_positive = np.ones(len(positive_reviews))\n",
    "labels_neutral = np.zeros(len(neutral_reviews))\n",
    "labels_negative = [-(n ** 0) for n in range(len(negative_reviews))]\n",
    "\n",
    "\n",
    "Y = np.concatenate((labels_positive,labels_neutral))\n",
    "Y = np.concatenate((Y,labels_negative))"
   ],
   "metadata": {
    "collapsed": false,
    "ExecuteTime": {
     "end_time": "2023-07-28T09:32:40.196482Z",
     "start_time": "2023-07-28T09:32:40.195215Z"
    }
   }
  },
  {
   "cell_type": "code",
   "execution_count": 26,
   "outputs": [],
   "source": [
    "# Splitting general dataset into training and test datasets\n",
    "\n",
    "X_train, X_test, y_train, y_test = train_test_split(data, Y, test_size=0.15, random_state=42)"
   ],
   "metadata": {
    "collapsed": false,
    "ExecuteTime": {
     "end_time": "2023-07-28T09:32:40.282177Z",
     "start_time": "2023-07-28T09:32:40.198436Z"
    }
   }
  },
  {
   "cell_type": "code",
   "execution_count": 27,
   "outputs": [],
   "source": [
    "# Vectorize training dataset\n",
    "\n",
    "vectorizer = load('vectorizer.joblib')\n",
    "X_train = vectorizer.transform(X_train)"
   ],
   "metadata": {
    "collapsed": false,
    "ExecuteTime": {
     "end_time": "2023-07-28T09:32:40.542533Z",
     "start_time": "2023-07-28T09:32:40.282801Z"
    }
   }
  },
  {
   "cell_type": "markdown",
   "source": [
    "### Initialize and train model"
   ],
   "metadata": {
    "collapsed": false
   }
  },
  {
   "cell_type": "code",
   "execution_count": 28,
   "outputs": [],
   "source": [
    "svc = LinearSVC(dual='auto')\n",
    "X_svc = svc.fit(X_train,y_train)"
   ],
   "metadata": {
    "collapsed": false,
    "ExecuteTime": {
     "end_time": "2023-07-28T09:32:40.583619Z",
     "start_time": "2023-07-28T09:32:40.543671Z"
    }
   }
  },
  {
   "cell_type": "markdown",
   "source": [
    "### Check resulting model"
   ],
   "metadata": {
    "collapsed": false
   }
  },
  {
   "cell_type": "code",
   "execution_count": 30,
   "outputs": [],
   "source": [
    "x_all = vectorizer.transform(X_test)\n",
    "y_all = X_svc.predict(x_all)"
   ],
   "metadata": {
    "collapsed": false,
    "ExecuteTime": {
     "end_time": "2023-07-28T09:32:40.627312Z",
     "start_time": "2023-07-28T09:32:40.624049Z"
    }
   }
  },
  {
   "cell_type": "code",
   "execution_count": 31,
   "outputs": [
    {
     "name": "stdout",
     "output_type": "stream",
     "text": [
      "Estimator accuracy is 65.9236%\n"
     ]
    }
   ],
   "source": [
    "list(map(int,y_all))\n",
    "sum = 0\n",
    "for i in range(len(y_test)):\n",
    "    if y_test[i] == y_all[i]:\n",
    "        sum += 1\n",
    "\n",
    "print('Estimator accuracy is',\"{:2.4f}\".format(sum/len(y_test) * 100) + '%')\n"
   ],
   "metadata": {
    "collapsed": false,
    "ExecuteTime": {
     "end_time": "2023-07-28T09:32:40.629974Z",
     "start_time": "2023-07-28T09:32:40.628454Z"
    }
   }
  },
  {
   "cell_type": "markdown",
   "source": [
    "Show result with one example by its index"
   ],
   "metadata": {
    "collapsed": false
   }
  },
  {
   "cell_type": "code",
   "execution_count": 29,
   "outputs": [],
   "source": [
    "index = 34"
   ],
   "metadata": {
    "collapsed": false
   }
  },
  {
   "cell_type": "code",
   "execution_count": 32,
   "outputs": [],
   "source": [
    "x = vectorizer.transform([X_test[index]])\n",
    "y = int(X_svc.predict(x)[0])"
   ],
   "metadata": {
    "collapsed": false,
    "ExecuteTime": {
     "end_time": "2023-07-28T09:32:40.632799Z",
     "start_time": "2023-07-28T09:32:40.631475Z"
    }
   }
  },
  {
   "cell_type": "code",
   "execution_count": 33,
   "outputs": [
    {
     "name": "stdout",
     "output_type": "stream",
     "text": [
      "Review: \n"
     ]
    },
    {
     "data": {
      "text/plain": "'прислать отделение сменить телефон один другой при смена телефон прийти смс подтверждениеть смена этот же день совершить сбп перевод смс прийти старый телефон написать чат где очень некомпетентный сотрудник не понимать он хотеть итог сообщить ошибка теперь всё работать далее онлайн ничего не оплачивать проверить не возможность сегодня попатыться оплатить госпошлина госуслуга смс не приходить чат опять сотрудник сказать смс приходить старый номер сказать опять идти отделение чтобы опять менять номер онлайн они ничего сделать не есть отделение работать некомпетентный специалист не сменить номер система не работать работать ошибка номер уведомление нельзя нормально сменить чат тоже работать обманщик игнорировать вопрос выходить произвольно чат _ смс не приходить _ где опять старый телефон'"
     },
     "execution_count": 33,
     "metadata": {},
     "output_type": "execute_result"
    }
   ],
   "source": [
    "print('Review: ')\n",
    "X_test[index]"
   ],
   "metadata": {
    "collapsed": false,
    "ExecuteTime": {
     "end_time": "2023-07-28T09:32:40.636188Z",
     "start_time": "2023-07-28T09:32:40.634042Z"
    }
   }
  },
  {
   "cell_type": "code",
   "execution_count": 34,
   "outputs": [
    {
     "name": "stdout",
     "output_type": "stream",
     "text": [
      "Негативный\n"
     ]
    }
   ],
   "source": [
    "if y == 1: print('Положительный')\n",
    "elif y == 0: print('Нейтральный')\n",
    "else: print('Негативный')"
   ],
   "metadata": {
    "collapsed": false,
    "ExecuteTime": {
     "end_time": "2023-07-28T09:32:40.639214Z",
     "start_time": "2023-07-28T09:32:40.637885Z"
    }
   }
  },
  {
   "cell_type": "markdown",
   "source": [
    "### Saving model"
   ],
   "metadata": {
    "collapsed": false
   }
  },
  {
   "cell_type": "code",
   "execution_count": 35,
   "outputs": [
    {
     "data": {
      "text/plain": "['SVC_model.joblib']"
     },
     "execution_count": 35,
     "metadata": {},
     "output_type": "execute_result"
    }
   ],
   "source": [
    "dump(X_svc, 'SVC_model.joblib')"
   ],
   "metadata": {
    "collapsed": false,
    "ExecuteTime": {
     "end_time": "2023-07-28T09:32:40.642170Z",
     "start_time": "2023-07-28T09:32:40.639554Z"
    }
   }
  },
  {
   "cell_type": "code",
   "execution_count": 35,
   "outputs": [],
   "source": [],
   "metadata": {
    "collapsed": false,
    "ExecuteTime": {
     "end_time": "2023-07-28T09:32:40.643675Z",
     "start_time": "2023-07-28T09:32:40.642656Z"
    }
   }
  }
 ],
 "metadata": {
  "kernelspec": {
   "display_name": "Python 3",
   "language": "python",
   "name": "python3"
  },
  "language_info": {
   "codemirror_mode": {
    "name": "ipython",
    "version": 2
   },
   "file_extension": ".py",
   "mimetype": "text/x-python",
   "name": "python",
   "nbconvert_exporter": "python",
   "pygments_lexer": "ipython2",
   "version": "2.7.6"
  }
 },
 "nbformat": 4,
 "nbformat_minor": 0
}
