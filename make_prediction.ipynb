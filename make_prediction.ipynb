{
 "cells": [
  {
   "cell_type": "code",
   "execution_count": 1,
   "metadata": {
    "collapsed": true,
    "ExecuteTime": {
     "end_time": "2023-07-26T17:24:50.481902Z",
     "start_time": "2023-07-26T17:24:50.391744Z"
    }
   },
   "outputs": [],
   "source": [
    "import re\n",
    "import pymorphy3\n",
    "\n",
    "from joblib import dump, load"
   ]
  },
  {
   "cell_type": "code",
   "execution_count": 2,
   "outputs": [],
   "source": [
    "special_characters = ['</p>', '\\xa0', '<br/>', '\\n', '-&gt;']"
   ],
   "metadata": {
    "collapsed": false,
    "ExecuteTime": {
     "end_time": "2023-07-26T17:24:50.504137Z",
     "start_time": "2023-07-26T17:24:50.501300Z"
    }
   }
  },
  {
   "cell_type": "code",
   "execution_count": 3,
   "outputs": [],
   "source": [
    "stop_words = ['в', 'на', 'с', 'и', 'я', 'о', 'к', 'а', 'за', 'по',\n",
    "              'об', 'у', 'бы', 'от', 'ли', 'ул', 'что', 'со', 'из',\n",
    "              'для', 'про', 'г', 'до', 'то', 'быть', 'по', 'мочь',\n",
    "              'январь','февраль','март','апрель','май','июнь','июль',\n",
    "              'август','сентябрь','октябрь','ноябрь','декабрь','год',\n",
    "              'стать','это','когда','даже', 'янв', 'фев', 'апр', 'авг',\n",
    "              'сен', 'окт', 'ноя', 'дек', 'ые', 'ый', 'ым', 'ых', 'ая']\n"
   ],
   "metadata": {
    "collapsed": false,
    "ExecuteTime": {
     "end_time": "2023-07-26T17:24:50.520761Z",
     "start_time": "2023-07-26T17:24:50.506255Z"
    }
   }
  },
  {
   "cell_type": "code",
   "execution_count": 4,
   "outputs": [],
   "source": [
    "def cleansing(text):\n",
    "    res = []\n",
    "    for i in range(len(text)):\n",
    "        res.append(text[i])\n",
    "        for sp_ch in special_characters:\n",
    "            res[i] = (text[i].replace(sp_ch,' '))\n",
    "        res[i] = res[i].lower()\n",
    "        res[i] = re.sub(r'[^\\w\\s]', ' ', res[i])\n",
    "        res[i] = re.sub(r'[^\\w\\s]+|[\\d]+', r' ',res[i]).strip()\n",
    "        res[i] = re.sub('[a-zA-Z\\s]+', ' ', res[i])\n",
    "        res[i] = re.sub(\" +\", \" \", res[i])\n",
    "    return res\n",
    "\n",
    "morph = pymorphy3.MorphAnalyzer()\n",
    "\n",
    "def lemmatize(sentence):\n",
    "    words = sentence.split() # разбиваем текст на слова\n",
    "    res = list()\n",
    "    for word in words:\n",
    "        p = morph.parse(word)[0]\n",
    "        res.append(p.normal_form)\n",
    "    return res\n",
    "\n",
    "def delete_stop_words(sentence):\n",
    "    res = list()\n",
    "    for word in sentence:\n",
    "        if word not in stop_words:\n",
    "            res.append(word)\n",
    "    return res\n",
    "\n",
    "def join(sentence):\n",
    "    return ' '.join(sentence)\n",
    "\n",
    "def processing_pipeline(reviews):\n",
    "    cleansed_reviews = cleansing(reviews)\n",
    "    lemmatized_reviews = list(map(lemmatize,cleansed_reviews))\n",
    "    clean_reviews = list(map(delete_stop_words,lemmatized_reviews))\n",
    "    final_reviews = list(map(join,clean_reviews))\n",
    "    return final_reviews\n"
   ],
   "metadata": {
    "collapsed": false,
    "ExecuteTime": {
     "end_time": "2023-07-26T17:24:50.574655Z",
     "start_time": "2023-07-26T17:24:50.516365Z"
    }
   }
  },
  {
   "cell_type": "code",
   "execution_count": 4,
   "outputs": [],
   "source": [],
   "metadata": {
    "collapsed": false,
    "ExecuteTime": {
     "end_time": "2023-07-26T17:24:50.582269Z",
     "start_time": "2023-07-26T17:24:50.579760Z"
    }
   }
  },
  {
   "cell_type": "code",
   "execution_count": 4,
   "outputs": [],
   "source": [],
   "metadata": {
    "collapsed": false,
    "ExecuteTime": {
     "end_time": "2023-07-26T17:24:50.587656Z",
     "start_time": "2023-07-26T17:24:50.585855Z"
    }
   }
  },
  {
   "cell_type": "code",
   "execution_count": 29,
   "outputs": [],
   "source": [
    "review = ['В марте оформляла кредитную карту год без % по ссылке друга. Не думала, что получу одобрение, т.к. уже были открытые карточки в других банках, но предварительное одобрение было уже через минуту. Выбрала лимит, приняла звонок от сотрудника банка и договорилась, что приду сама за получением карты в офис у м. Сокольники :) Из плюсов хочу отметить минимум очередей, современность отделения и электронную очередь. Сама взяла быстро талон, и через минут 7 была у менеджера. Мне понадобился только паспорт для получения карты) Сотрудница предложила страховку по карте и я согласилась, т.к. комиссия списывается вроде как только если не гасить за льготный период долг, что очень выгодно. Обслуживание на все 100% понравилось, так как девушка в отделении была заинтересована в раскрытии всех условий карты, даже когда я особо и не спрашивала!']"
   ],
   "metadata": {
    "collapsed": false,
    "ExecuteTime": {
     "end_time": "2023-07-26T17:30:01.912029Z",
     "start_time": "2023-07-26T17:30:01.905297Z"
    }
   }
  },
  {
   "cell_type": "code",
   "execution_count": 30,
   "outputs": [
    {
     "data": {
      "text/plain": "['оформлять кредитный карта без ссылка друг не думать получить одобрение так уже открытый карточка другой банк но предварительный одобрение уже через минута выбрать лимит принять звонок сотрудник банк договориться прийти сам получение карта офис м сокольник плюс хотеть отметить минимум очередь современность отделение электронный очередь сам взять быстро талон через минута менеджер понадобиться только паспорт получение карта сотрудница предложить страховка карта согласиться так комиссия списываться вроде как только если не гасить льготный период долг очень выгодно обслуживание всё понравиться так как девушка отделение заинтересовать раскрытие весь условие карта особо не спрашивать']"
     },
     "execution_count": 30,
     "metadata": {},
     "output_type": "execute_result"
    }
   ],
   "source": [
    "X = processing_pipeline(review)\n",
    "X"
   ],
   "metadata": {
    "collapsed": false,
    "ExecuteTime": {
     "end_time": "2023-07-26T17:30:02.435131Z",
     "start_time": "2023-07-26T17:30:02.431753Z"
    }
   }
  },
  {
   "cell_type": "code",
   "execution_count": 30,
   "outputs": [],
   "source": [],
   "metadata": {
    "collapsed": false,
    "ExecuteTime": {
     "end_time": "2023-07-26T17:30:02.837567Z",
     "start_time": "2023-07-26T17:30:02.832668Z"
    }
   }
  },
  {
   "cell_type": "code",
   "execution_count": 31,
   "outputs": [],
   "source": [
    "vectorizer = load('vectorizer.joblib')\n",
    "x = vectorizer.transform([X[0]])"
   ],
   "metadata": {
    "collapsed": false,
    "ExecuteTime": {
     "end_time": "2023-07-26T17:30:03.179082Z",
     "start_time": "2023-07-26T17:30:03.153600Z"
    }
   }
  },
  {
   "cell_type": "code",
   "execution_count": 32,
   "outputs": [],
   "source": [
    "model = load('SVC_model.joblib')\n",
    "y = model.predict(x)"
   ],
   "metadata": {
    "collapsed": false,
    "ExecuteTime": {
     "end_time": "2023-07-26T17:30:03.493471Z",
     "start_time": "2023-07-26T17:30:03.483015Z"
    }
   }
  },
  {
   "cell_type": "code",
   "execution_count": 33,
   "outputs": [
    {
     "data": {
      "text/plain": "array([1.])"
     },
     "execution_count": 33,
     "metadata": {},
     "output_type": "execute_result"
    }
   ],
   "source": [
    "y"
   ],
   "metadata": {
    "collapsed": false,
    "ExecuteTime": {
     "end_time": "2023-07-26T17:30:03.900836Z",
     "start_time": "2023-07-26T17:30:03.896796Z"
    }
   }
  },
  {
   "cell_type": "code",
   "execution_count": 9,
   "outputs": [],
   "source": [],
   "metadata": {
    "collapsed": false,
    "ExecuteTime": {
     "end_time": "2023-07-26T17:24:50.955629Z",
     "start_time": "2023-07-26T17:24:50.953120Z"
    }
   }
  },
  {
   "cell_type": "code",
   "execution_count": 9,
   "outputs": [],
   "source": [],
   "metadata": {
    "collapsed": false,
    "ExecuteTime": {
     "end_time": "2023-07-26T17:24:50.957724Z",
     "start_time": "2023-07-26T17:24:50.956559Z"
    }
   }
  },
  {
   "cell_type": "code",
   "execution_count": 9,
   "outputs": [],
   "source": [],
   "metadata": {
    "collapsed": false,
    "ExecuteTime": {
     "end_time": "2023-07-26T17:24:50.959610Z",
     "start_time": "2023-07-26T17:24:50.958218Z"
    }
   }
  },
  {
   "cell_type": "code",
   "execution_count": 9,
   "outputs": [],
   "source": [],
   "metadata": {
    "collapsed": false,
    "ExecuteTime": {
     "end_time": "2023-07-26T17:24:50.961390Z",
     "start_time": "2023-07-26T17:24:50.959737Z"
    }
   }
  }
 ],
 "metadata": {
  "kernelspec": {
   "display_name": "Python 3",
   "language": "python",
   "name": "python3"
  },
  "language_info": {
   "codemirror_mode": {
    "name": "ipython",
    "version": 2
   },
   "file_extension": ".py",
   "mimetype": "text/x-python",
   "name": "python",
   "nbconvert_exporter": "python",
   "pygments_lexer": "ipython2",
   "version": "2.7.6"
  }
 },
 "nbformat": 4,
 "nbformat_minor": 0
}
